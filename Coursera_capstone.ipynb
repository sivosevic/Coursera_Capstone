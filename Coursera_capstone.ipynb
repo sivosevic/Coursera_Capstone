{
  "nbformat": 4,
  "nbformat_minor": 0,
  "metadata": {
    "colab": {
      "name": "Coursera-capstone.ipynb",
      "provenance": [],
      "authorship_tag": "ABX9TyOSaYjlDW/gfYm1Ydrx6pNR",
      "include_colab_link": true
    },
    "kernelspec": {
      "name": "python3",
      "display_name": "Python 3"
    }
  },
  "cells": [
    {
      "cell_type": "markdown",
      "metadata": {
        "id": "view-in-github",
        "colab_type": "text"
      },
      "source": [
        "<a href=\"https://colab.research.google.com/github/sivosevic/Coursera_Capstone/blob/master/Coursera_capstone.ipynb\" target=\"_parent\"><img src=\"https://colab.research.google.com/assets/colab-badge.svg\" alt=\"Open In Colab\"/></a>"
      ]
    },
    {
      "cell_type": "markdown",
      "metadata": {
        "id": "FD8DR_Dt35rY",
        "colab_type": "text"
      },
      "source": [
        "###1 "
      ]
    },
    {
      "cell_type": "markdown",
      "metadata": {
        "id": "l3GWDobN3mpZ",
        "colab_type": "text"
      },
      "source": [
        "#This notebook will be used for data science capstone on coursera "
      ]
    },
    {
      "cell_type": "markdown",
      "metadata": {
        "id": "0VB-4wnV3-x4",
        "colab_type": "text"
      },
      "source": [
        "###2 "
      ]
    },
    {
      "cell_type": "code",
      "metadata": {
        "id": "KvelTIpl3Wgf",
        "colab_type": "code",
        "colab": {}
      },
      "source": [
        "import numpy as np # library for vectorized computation"
      ],
      "execution_count": 1,
      "outputs": []
    },
    {
      "cell_type": "markdown",
      "metadata": {
        "id": "XnhghxuF4Jcf",
        "colab_type": "text"
      },
      "source": [
        "###3\n"
      ]
    },
    {
      "cell_type": "code",
      "metadata": {
        "id": "WvZHBs9q4Fzi",
        "colab_type": "code",
        "colab": {}
      },
      "source": [
        "import pandas as pd # library to process data as dataframes\n"
      ],
      "execution_count": 2,
      "outputs": []
    },
    {
      "cell_type": "markdown",
      "metadata": {
        "id": "kMH4n5x_4PgK",
        "colab_type": "text"
      },
      "source": [
        "###4"
      ]
    },
    {
      "cell_type": "code",
      "metadata": {
        "id": "AhffOeZP3h8v",
        "colab_type": "code",
        "colab": {
          "base_uri": "https://localhost:8080/",
          "height": 34
        },
        "outputId": "ba888c88-7861-4567-c674-d9c46f1672b1"
      },
      "source": [
        "print('Hello Capstone Project Course!')\n"
      ],
      "execution_count": 3,
      "outputs": [
        {
          "output_type": "stream",
          "text": [
            "Hello Capstone Project Course!\n"
          ],
          "name": "stdout"
        }
      ]
    }
  ]
}